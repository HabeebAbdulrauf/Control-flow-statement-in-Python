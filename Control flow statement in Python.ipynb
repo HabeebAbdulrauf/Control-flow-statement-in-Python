{
 "cells": [
  {
   "cell_type": "markdown",
   "metadata": {},
   "source": [
    "# EXAMINATION GRADING  SYSTEM"
   ]
  },
  {
   "cell_type": "code",
   "execution_count": 6,
   "metadata": {
    "scrolled": true
   },
   "outputs": [
    {
     "name": "stdout",
     "output_type": "stream",
     "text": [
      "What is your score 40 \n",
      "pass\n"
     ]
    }
   ],
   "source": [
    "Grade = int(input('What is your score '))\n",
    "\n",
    "if Grade >= 70 and  Grade <= 100:\n",
    "    print('Excellent')\n",
    "elif Grade >= 59 and  Grade <= 69:\n",
    "     print('Very Good')\n",
    "elif Grade >= 49  and  Grade <= 59:\n",
    "    print('Good')\n",
    "elif Grade >= 40 or  Grade <= 49:\n",
    "    print('pass')\n",
    "else:\n",
    "    print('fail')\n",
    "\n",
    "    \n",
    "    \n"
   ]
  },
  {
   "cell_type": "markdown",
   "metadata": {},
   "source": [
    "CLOCK FOR TIME "
   ]
  },
  {
   "cell_type": "markdown",
   "metadata": {},
   "source": [
    "# PSeudo Code \n",
    " \n",
    "Goood morning : 1 to 10\n",
    "\n",
    "Goood Afternoon :11 to 20  \n",
    "\n",
    "Goood Evening : 21 to 30  \n",
    "\n"
   ]
  },
  {
   "cell_type": "code",
   "execution_count": null,
   "metadata": {},
   "outputs": [],
   "source": [
    "clock = int(input('what time say '))\n",
    "\n",
    "if clock >= 1 and clock < 9:\n",
    "    print('Good Morning')\n",
    "    \n",
    "elif clock < 9 and clock > 12:\n",
    "    print('Good Afternoon')\n",
    "    \n",
    "elif clock < 12 and clock > 31:\n",
    "    print('Good Evening ')\n"
   ]
  },
  {
   "cell_type": "markdown",
   "metadata": {},
   "source": [
    "# ATM MACHINE ALGORITHM "
   ]
  },
  {
   "cell_type": "code",
   "execution_count": null,
   "metadata": {},
   "outputs": [],
   "source": [
    "Total_amount_in_account = int(input('Account_balance: '))\n",
    "\n",
    "Amount_to_withdraw = int(input('input withdraw: ' ))\n",
    "\n",
    "Account_balance =  Total_amount_in_account - Amount_to_withdraw\n",
    "print('Account_balance ')\n",
    "\n",
    "\n",
    "if Amount_to_withdraw < Total_amount_in_account :\n",
    "    print('Withdrawal successful')\n",
    "    \n",
    "elif Amount_to_withdraw <  Total_amount_in_account :\n",
    "       print('Your account is insufficient ')\n"
   ]
  },
  {
   "cell_type": "code",
   "execution_count": null,
   "metadata": {},
   "outputs": [],
   "source": []
  },
  {
   "cell_type": "code",
   "execution_count": null,
   "metadata": {},
   "outputs": [],
   "source": []
  }
 ],
 "metadata": {
  "kernelspec": {
   "display_name": "Python 3",
   "language": "python",
   "name": "python3"
  },
  "language_info": {
   "codemirror_mode": {
    "name": "ipython",
    "version": 3
   },
   "file_extension": ".py",
   "mimetype": "text/x-python",
   "name": "python",
   "nbconvert_exporter": "python",
   "pygments_lexer": "ipython3",
   "version": "3.8.5"
  }
 },
 "nbformat": 4,
 "nbformat_minor": 4
}
